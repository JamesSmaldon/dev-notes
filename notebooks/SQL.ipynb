{
 "cells": [
  {
   "cell_type": "markdown",
   "metadata": {},
   "source": [
    "# SQL\n",
    "Using PyGresQL to experiment with SQL queries.\n",
    "\n",
    "## Requirements\n",
    "* Postgres running on localhost\n",
    "* Working login to local postgres server for current user\n",
    "\n",
    "## Setup\n"
   ]
  },
  {
   "cell_type": "code",
   "execution_count": 13,
   "metadata": {
    "collapsed": false
   },
   "outputs": [],
   "source": [
    "from pg import DB\n",
    "db = DB(passwd='dev')\n",
    "if not 'public.jupyter_exps' in db.get_tables():\n",
    "    db.query('CREATE TABLE JUPYTER_EXPS(id serial primary key, test2 varchar)')"
   ]
  }
 ],
 "metadata": {
  "kernelspec": {
   "display_name": "Python 2",
   "language": "python",
   "name": "python2"
  },
  "language_info": {
   "codemirror_mode": {
    "name": "ipython",
    "version": 2
   },
   "file_extension": ".py",
   "mimetype": "text/x-python",
   "name": "python",
   "nbconvert_exporter": "python",
   "pygments_lexer": "ipython2",
   "version": "2.7.10"
  }
 },
 "nbformat": 4,
 "nbformat_minor": 0
}
