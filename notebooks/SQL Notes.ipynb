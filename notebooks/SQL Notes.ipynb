{
 "cells": [
  {
   "cell_type": "markdown",
   "metadata": {},
   "source": [
    "# SQL Notes\n",
    "\n"
   ]
  },
  {
   "cell_type": "markdown",
   "metadata": {},
   "source": [
    "## General\n",
    "* Postgres has weird behaviour with table names, if you define a table name without quotes, it's converted to lower case and you can specify the identifier without quotes. If you use quotes, the exact case is used for the table name, and you need to use quotes to specify the table.\n",
    "* Double quotes are for quoting identifiers, use single quotes to define string literals."
   ]
  },
  {
   "cell_type": "markdown",
   "metadata": {},
   "source": [
    "## Sequences\n",
    "* You can define number sequences in SQL. In postgres, the serial data type is a convenience type for creating an integer column, with default values assigned from an auto incrementing sequence.\n",
    "* A sequence is implemented as a table with a single row."
   ]
  },
  {
   "cell_type": "code",
   "execution_count": 9,
   "metadata": {
    "collapsed": false
   },
   "outputs": [
    {
     "name": "stdout",
     "output_type": "stream",
     "text": [
      "(Row(sequence_name='serial', last_value=1000L, start_value=1000L, increment_by=100L, max_value=9223372036854775807L, min_value=1L, cache_value=1L, log_cnt=0L, is_cycled=False, is_called=False),)\n",
      "(Row(nextval=1000L),)\n",
      "(Row(nextval=1100L),)\n",
      "(Row(nextval=1200L),)\n",
      "(Row(nextval=1300L),)\n",
      "(Row(nextval=1400L),)\n"
     ]
    }
   ],
   "source": [
    "import pgdb\n",
    "with pgdb.connect('localhost:james', user='james', password='dev') as conn:\n",
    "    with conn.cursor() as cursor:\n",
    "        cursor.execute(\"CREATE TEMP SEQUENCE serial START 1000 INCREMENT BY 100;\")\n",
    "        print (tuple(cursor.execute('SELECT * FROM serial;')))\n",
    "        for i in range(0, 5):\n",
    "            print(tuple(cursor.execute(\"SELECT nextval('serial');\")))"
   ]
  },
  {
   "cell_type": "markdown",
   "metadata": {},
   "source": [
    "## You probably shouldn't use enum datatypes\n",
    "* http://komlenic.com/244/8-reasons-why-mysqls-enum-data-type-is-evil/\n",
    "\n",
    "\n",
    "1. Data isn't being treated like data.\n",
    "* Changing the member list of ENUM columns is very expensive.\n",
    "* It's impossible to add additional attributes or related info.\n",
    "* Getting a list of distinct ENUM members is a pain.\n",
    "* ENUM columns may only offer limited or negligible effects on optimization.\n",
    "* You can't reuse the member-list of an ENUM column in other tables.\n",
    "* ENUM columns have noteable gotchas.\n",
    "* ENUM has limited portability to other DBMS."
   ]
  },
  {
   "cell_type": "markdown",
   "metadata": {},
   "source": [
    "## Useful Things"
   ]
  },
  {
   "cell_type": "code",
   "execution_count": null,
   "metadata": {
    "collapsed": true
   },
   "outputs": [],
   "source": [
    "# Return the number of records in the table.\n",
    "SELECT COUNT(*) FROM table_name;\n",
    "\n",
    "# Return the number of values in the column (excluding NULL values)\n",
    "SELECT COUNT(col_name) FROM table_name;\n",
    "\n",
    "# Return the first ten rows from a table\n",
    "SELECT * FROM table_name LIMIT 10;"
   ]
  },
  {
   "cell_type": "markdown",
   "metadata": {},
   "source": [
    "## Refs\n",
    "* http://modern-sql.com/slides"
   ]
  }
 ],
 "metadata": {
  "kernelspec": {
   "display_name": "Python 2",
   "language": "python",
   "name": "python2"
  },
  "language_info": {
   "codemirror_mode": {
    "name": "ipython",
    "version": 2
   },
   "file_extension": ".py",
   "mimetype": "text/x-python",
   "name": "python",
   "nbconvert_exporter": "python",
   "pygments_lexer": "ipython2",
   "version": "2.7.10"
  }
 },
 "nbformat": 4,
 "nbformat_minor": 0
}
