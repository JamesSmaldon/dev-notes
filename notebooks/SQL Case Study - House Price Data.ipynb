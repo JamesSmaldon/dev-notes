{
 "cells": [
  {
   "cell_type": "markdown",
   "metadata": {},
   "source": [
    "# SQL\n",
    "Using PyGresQL to experiment with SQL queries.\n",
    "\n",
    "## Requirements\n",
    "* Postgres running on localhost\n",
    "* Working login to local postgres server for current user\n",
    "* Database with the same number as the current user's username.\n",
    "* data file: '/data/pp-2016.csv'\n",
    "\n",
    "## Setup\n",
    "* Generate a database from the UK land registry house prices paid for the year to date\n",
    "* Dataset is available here: https://data.gov.uk/dataset/land-registry-monthly-price-paid-data\n",
    "* The column headers are listed here: https://www.gov.uk/guidance/about-the-price-paid-data\n",
    "* The dataset is fairly simple, and is good for experimenting with basic select statements without requiring complicated joins.\n",
    "\n",
    "The data is in CSV format with the following columns:\n",
    "\n",
    "|Column|Description|SQL Data Type|\n",
    "|------|-----------|-------------|\n",
    "|Transaction Unique Identifier|A reference number which is generated automatically recording each published sale. The number is unique and will change each time a sale is recorded.|Remove (N/A)|\n",
    "|Price|Sale price stated on the transfer deed.||\n",
    "|Date of Transfer|Date when the sale was completed, as stated on the transfer deed.||\n",
    "|Postcode|This is the postcode used at the time of the original transaction. Note that postcodes can be reallocated and these changes are not reflected in the Price Paid Dataset.||\n",
    "|Property Type|D = Detached, S = Semi-Detached, T = Terraced, F = Flats/Maisonettes, O = Other ||\n",
    "|OldNew|Indicates the age of the property and applies to all price paid transactions, residential and non-residential. Y = a newly built property, N = an established residential building||\n",
    "|Duration|Relates to the tenure: F = Freehold, L= Leasehold etc.||\n",
    "|PAON|Primary Addressable Object Name. If there is a sub-building for example the building is divided into flats, see Secondary Addressable Object Name (SAON).|Store addresses in a single text column, as we have postcode which is more useful.|\n",
    "|SAON|Secondary Addressable Object Name. If there is a sub-building, for example the building is divided into flats, there will be a SAON.||\n",
    "|Street|||\n",
    "|Locality|||\n",
    "|TownCity|||\n",
    "|District|||\n",
    "|County|||\n",
    "|PPD|Indicates the type of Price Paid transaction. A = Standard Price Paid entry, includes single residential property sold for full market value. B = Additional Price Paid entry including transfers under a power of sale/repossessions, buy-to-lets (where they can be identified by a Mortgage) and transfers to non-private individuals.||\n",
    "|RecordStatus|Indicates additions, changes and deletions to the records.(see guide below). A = Addition C = Change D = Delete.|||\n"
   ]
  },
  {
   "cell_type": "markdown",
   "metadata": {},
   "source": [
    "### Notes on Inputing the Data\n",
    "* Each record has a GUID as an identifier, we probably don't need to use these as the primary key in the database, instead we can just create an auto incrementing int based column. GUIDs are useful in some situations (e.g. if you need to generate the record outside of the database and add it afterwards)  but they have performance implications, as they do not index well. Therefore, I'll dump the GUIDs and just use the serial data type to add unique ids on insertion.\n",
    "* Addresses are largely irrelavent, so just store the address as one large string."
   ]
  },
  {
   "cell_type": "code",
   "execution_count": 4,
   "metadata": {
    "collapsed": false
   },
   "outputs": [
    {
     "name": "stdout",
     "output_type": "stream",
     "text": [
      "Processed 10000 records\n",
      "Processed 20000 records\n",
      "Processed 30000 records\n",
      "Processed 40000 records\n",
      "Processed 50000 records\n",
      "Processed 60000 records\n",
      "Processed 70000 records\n",
      "Processed 80000 records\n",
      "Processed 90000 records\n",
      "Processed 100000 records\n",
      "Processed 110000 records\n",
      "Processed 120000 records\n",
      "Processed 130000 records\n",
      "Processed 140000 records\n",
      "Processed 150000 records\n",
      "Processed 160000 records\n",
      "Processed 170000 records\n",
      "Processed 180000 records\n",
      "Processed 190000 records\n",
      "Processed 200000 records\n",
      "Processed 210000 records\n",
      "Processed 220000 records\n",
      "Processed 230000 records\n",
      "Processed 240000 records\n",
      "Row(count=249092L)\n"
     ]
    }
   ],
   "source": [
    "import pgdb\n",
    "\n",
    "create_property_type_sql = ('CREATE TABLE property_type '\n",
    "                                '(id serial PRIMARY KEY,'\n",
    "                                ' code text,'\n",
    "                                ' description text)')\n",
    "\n",
    "create_duration_sql = ('CREATE TABLE duration '\n",
    "                              '(id serial PRIMARY KEY,'\n",
    "                              ' code text,'\n",
    "                              ' description text)')\n",
    "\n",
    "transaction_type_sql = ('CREATE TABLE transaction_type '\n",
    "                           '(id serial PRIMARY KEY,'\n",
    "                           ' code text,'\n",
    "                           ' description text)')\n",
    "\n",
    "create_house_prices_sql = ('CREATE TABLE house_prices' \n",
    "                                '(id serial PRIMARY KEY,' \n",
    "                                ' price int,'\n",
    "                                ' transfer_date date,'\n",
    "                                ' postcode text,'\n",
    "                                ' property_type_id integer REFERENCES property_type(id) ON DELETE RESTRICT,'\n",
    "                                ' new_build boolean,'\n",
    "                                ' duration_id integer REFERENCES duration(id) ON DELETE RESTRICT,'\n",
    "                                ' address text,' \n",
    "                                ' transaction_type_id integer REFERENCES transaction_type(id) ON DELETE RESTRICT)')\n",
    "\n",
    "\n",
    "def drop_if_exists(cursor, table_name):\n",
    "    result = cursor.execute(\"SELECT to_regclass('%s');\" % (table_name,))\n",
    "    exists = (result.fetchone())[0]\n",
    "\n",
    "    if exists:\n",
    "        cursor.execute('DROP TABLE \"%s\";' % (table_name,))\n",
    "\n",
    "        \n",
    "def setup_database(cursor):\n",
    "    # Get rid of existing data (if any)\n",
    "    drop_if_exists(cursor, 'house_prices')\n",
    "    drop_if_exists(cursor, 'property_type')\n",
    "    drop_if_exists(cursor, 'duration')\n",
    "    drop_if_exists(cursor, 'transaction_type')\n",
    "\n",
    "    cursor.execute(create_property_type_sql)\n",
    "    cursor.executemany(\n",
    "        'INSERT INTO property_type (code, description) VALUES (%s, %s)', \n",
    "        (('D','Detached'), \n",
    "         ('S','Semi-Detached'), \n",
    "         ('T','Terraced'), \n",
    "         ('F','Flats/Maisonettes'),\n",
    "         ('O','Other'))\n",
    "    )\n",
    "    cursor.execute(create_duration_sql)\n",
    "    cursor.executemany(\n",
    "        'INSERT INTO duration (code, description) VALUES (%s, %s)',\n",
    "        (('F', 'Freehold'),\n",
    "         ('L', 'Leasehold'))\n",
    "    )\n",
    "    cursor.execute(transaction_type_sql)\n",
    "    cursor.executemany(\n",
    "        'INSERT INTO transaction_type (code, description) VALUES (%s, %s)',\n",
    "        (('A', 'Standard'),\n",
    "         ('B', 'Additional'))\n",
    "    )\n",
    "    cursor.execute(create_house_prices_sql)\n",
    "\n",
    "    \n",
    "def add_house_price_record(cursor, raw_data):\n",
    "    price = raw_data[1]\n",
    "    transfer_date = raw_data[2].split(' ')[0]\n",
    "    postcode = raw_data[3]\n",
    "    prop_type = raw_data[4]\n",
    "    new_build = raw_data[5] == 'Y'\n",
    "    duration = raw_data[6]\n",
    "    address = \",\".join(raw_data[7:14])\n",
    "    transaction_type = raw_data[14]\n",
    "    \n",
    "    cursor.execute(\n",
    "        (\n",
    "            'WITH ins (price,' \n",
    "                       'transfer_date, '\n",
    "                       'post_code,'\n",
    "                       'property_code,'\n",
    "                       'new_build, '\n",
    "                       'duration_code, '\n",
    "                       'address, '\n",
    "                       'transaction_type_code) AS '\n",
    "             '(VALUES (%d, %s, %s, %s, %s, %s, %s, %s)) '   \n",
    "             'INSERT INTO house_prices ('\n",
    "                 'price, '\n",
    "                 'transfer_date, '\n",
    "                 'postcode, '\n",
    "                 'property_type_id, '\n",
    "                 'new_build, '\n",
    "                 'duration_id, '\n",
    "                 'address, '\n",
    "                 'transaction_type_id'\n",
    "             ') '\n",
    "             'SELECT '\n",
    "                 'ins.price, '\n",
    "                 'ins.transfer_date::date, '\n",
    "                 'ins.post_code, '\n",
    "                 'property_type.id, '\n",
    "                 'ins.new_build::boolean, '\n",
    "                 'duration.id, '\n",
    "                 'ins.address, '\n",
    "                 'transaction_type.id '\n",
    "             'FROM '\n",
    "                 'ins JOIN property_type ON ins.property_code = property_type.code '\n",
    "                 '    JOIN duration ON ins.duration_code = duration.code '\n",
    "                 '    JOIN transaction_type ON ins.transaction_type_code = transaction_type.code'\n",
    "        ),\n",
    "        (\n",
    "            int(price),\n",
    "            transfer_date,\n",
    "            postcode,\n",
    "            prop_type,\n",
    "            str(new_build),\n",
    "            duration,\n",
    "            address,\n",
    "            transaction_type\n",
    "        )\n",
    "    )    \n",
    "    \n",
    "import csv\n",
    "def import_data(cursor):\n",
    "    with open('../data/pp-2016.csv') as data_file:\n",
    "        reader = csv.reader(data_file, delimiter=',', quotechar='\"')\n",
    "\n",
    "        i = 0\n",
    "        for row in reader:\n",
    "            # Ignore updates and deletions\n",
    "            if row[-1] != 'A':\n",
    "                continue\n",
    "                \n",
    "            add_house_price_record(cursor, row)\n",
    "            i += 1\n",
    "            if i % 10000 == 0:\n",
    "                print('Processed %d records' % i)\n",
    "    \n",
    "with pgdb.connect('localhost:james', user='james', password='dev') as conn:\n",
    "    with conn.cursor() as cursor:            \n",
    "        setup_database(cursor)\n",
    "        conn.commit()\n",
    "        import_data(cursor)\n",
    "        cursor.execute('SELECT COUNT(*) from house_prices;')\n",
    "        print(cursor.fetchone())\n",
    "    conn.commit()"
   ]
  },
  {
   "cell_type": "markdown",
   "metadata": {},
   "source": [
    "## Querying the Data\n",
    "\n",
    "### Average house price across all sales"
   ]
  },
  {
   "cell_type": "code",
   "execution_count": 2,
   "metadata": {
    "collapsed": false
   },
   "outputs": [],
   "source": [
    "import pgdb\n",
    "\n",
    "def query(sql):\n",
    "    with pgdb.connect('localhost:james', user='james', password='dev') as conn:\n",
    "        with conn.cursor() as cursor:            \n",
    "            cursor.execute(sql)\n",
    "            return cursor.fetchall()"
   ]
  },
  {
   "cell_type": "code",
   "execution_count": 9,
   "metadata": {
    "collapsed": false
   },
   "outputs": [
    {
     "data": {
      "text/plain": [
       "[Row(avg=Decimal('294095.648278547685'))]"
      ]
     },
     "execution_count": 9,
     "metadata": {},
     "output_type": "execute_result"
    }
   ],
   "source": [
    "query('SELECT AVG(price) from house_prices;')"
   ]
  },
  {
   "cell_type": "code",
   "execution_count": 26,
   "metadata": {
    "collapsed": false
   },
   "outputs": [
    {
     "data": {
      "text/plain": [
       "[Row(min=1)]"
      ]
     },
     "execution_count": 26,
     "metadata": {},
     "output_type": "execute_result"
    }
   ],
   "source": [
    "# Find minimum price paid for a house\n",
    "query(\"SELECT MIN(price) FROM house_prices, transaction_type \" \n",
    "          \"WHERE transaction_type.id = house_prices.transaction_type_id AND \"\n",
    "                \"transaction_type.code = 'A'\")"
   ]
  },
  {
   "cell_type": "code",
   "execution_count": 11,
   "metadata": {
    "collapsed": false
   },
   "outputs": [
    {
     "data": {
      "text/plain": [
       "[Row(id=83952, price=1, transfer_date=datetime.date(2016, 2, 17), postcode='HA0 3NG', property_type_id=3, new_build=False, duration_id=2, address='191A,,EAST LANE,,WEMBLEY,BRENT,GREATER LONDON', transaction_type_id=1)]"
      ]
     },
     "execution_count": 11,
     "metadata": {},
     "output_type": "execute_result"
    }
   ],
   "source": [
    "# Select rows that have the minimum price value using a nested query\n",
    "query(\"SELECT * FROM house_prices \"\n",
    "          \"WHERE price = (SELECT MIN(price) FROM house_prices);\")"
   ]
  },
  {
   "cell_type": "markdown",
   "metadata": {},
   "source": [
    "### House price distribution"
   ]
  },
  {
   "cell_type": "code",
   "execution_count": 29,
   "metadata": {
    "collapsed": true
   },
   "outputs": [],
   "source": [
    "def plot_histo(data):\n",
    "    bins = [str(r[0]) for r in results]\n",
    "    counts = [r[1] for r in results]\n",
    "    return plot.bar(bins, counts)  "
   ]
  },
  {
   "cell_type": "code",
   "execution_count": 16,
   "metadata": {
    "collapsed": false
   },
   "outputs": [
    {
     "data": {
      "text/plain": [
       "<Container object of 630 artists>"
      ]
     },
     "execution_count": 16,
     "metadata": {},
     "output_type": "execute_result"
    },
    {
     "data": {
      "image/png": "[encoded data removed]",
      "text/plain": [
       "<matplotlib.figure.Figure at 0x7f2395b4b350>"
      ]
     },
     "metadata": {},
     "output_type": "display_data"
    }
   ],
   "source": [
    "%matplotlib inline\n",
    "import matplotlib.pyplot as plot\n",
    "# Show the distribution of house prices. To do this we need to generate a histogram of house prices.\n",
    "# See http://stackoverflow.com/a/10363145\n",
    "results = query(\"SELECT ROUND(price, -4) AS bucket, COUNT(*) AS count FROM house_prices GROUP BY bucket ORDER BY bucket;\")\n",
    "plot_histo(results)"
   ]
  },
  {
   "cell_type": "code",
   "execution_count": 17,
   "metadata": {
    "collapsed": false
   },
   "outputs": [
    {
     "data": {
      "text/plain": [
       "<Container object of 101 artists>"
      ]
     },
     "execution_count": 17,
     "metadata": {},
     "output_type": "execute_result"
    },
    {
     "data": {
      "image/png": "[encoded data removed]",
      "text/plain": [
       "<matplotlib.figure.Figure at 0x7f2392f5a910>"
      ]
     },
     "metadata": {},
     "output_type": "display_data"
    }
   ],
   "source": [
    "# There are couple of highly priced outliers which result in a huge range for the x axis, \n",
    "# to filter these out, we can observe that most sales are for < £5e6, but lets look at \n",
    "# sales below £1e6\n",
    "results = query(\"SELECT ROUND(price, -4) AS bucket, COUNT(*) AS count \"\n",
    "                \"FROM house_prices \"\n",
    "                \"WHERE price < 1e6\"\n",
    "                \"GROUP BY bucket \"\n",
    "                \"ORDER BY bucket;\")\n",
    "plot_histo(results)"
   ]
  },
  {
   "cell_type": "markdown",
   "metadata": {},
   "source": [
    "### Sales over time\n",
    "* Whats the distrubtions of sales over time (let's say on a month by month basis)?"
   ]
  },
  {
   "cell_type": "code",
   "execution_count": 57,
   "metadata": {
    "collapsed": false
   },
   "outputs": [
    {
     "name": "stdout",
     "output_type": "stream",
     "text": [
      "['2016-01-01 00:00:00+00:00', '2016-02-01 00:00:00+00:00', '2016-03-01 00:00:00+00:00', '2016-04-01 00:00:00+00:00']\n",
      "[61892L, 64662L, 104187L, 18351L]\n"
     ]
    },
    {
     "data": {
      "image/png": "[encoded data removed]",
      "text/plain": [
       "<matplotlib.figure.Figure at 0x7f2393df1210>"
      ]
     },
     "metadata": {},
     "output_type": "display_data"
    }
   ],
   "source": [
    "import pytz\n",
    "\n",
    "# The best way to do this seems to be to cast the month portion of the date to a string and then group by it.\n",
    "results = query(\"SELECT date_trunc('month', transfer_date) AS month, COUNT(*) \" \n",
    "                \"FROM house_prices \" \n",
    "                \"GROUP BY month \"\n",
    "                \"ORDER BY month \"\n",
    "                \"LIMIT 10;\")\n",
    "months = [str(r[0].replace(tzinfo=pytz.UTC)) for r in results]\n",
    "print months\n",
    "counts = [r[1] for r in results]\n",
    "print counts\n",
    "ax = plot.subplot(111)\n",
    "ax.bar(range(0, len(months)), counts)\n",
    "plot.xticks(xrange(0, len(months)), months, rotation=30)\n",
    "plot.show()\n"
   ]
  },
  {
   "cell_type": "markdown",
   "metadata": {},
   "source": [
    "### Average house price per postcode"
   ]
  },
  {
   "cell_type": "code",
   "execution_count": 64,
   "metadata": {
    "collapsed": false
   },
   "outputs": [
    {
     "name": "stdout",
     "output_type": "stream",
     "text": [
      "[Row(postcode='SA10 9BT', avg_price=Decimal('50050.000000000000')), Row(postcode='LA14 1DG', avg_price=Decimal('50300.000000000000')), Row(postcode='WA8 4SX', avg_price=Decimal('50400.000000000000')), Row(postcode='DN37 9NA', avg_price=Decimal('50500.000000000000')), Row(postcode='DL3 6RA', avg_price=Decimal('50500.000000000000')), Row(postcode='DL4 2JG', avg_price=Decimal('50500.000000000000')), Row(postcode='DH6 3QU', avg_price=Decimal('50500.000000000000')), Row(postcode='CA14 3DD', avg_price=Decimal('50500.000000000000')), Row(postcode='BD7 3NH', avg_price=Decimal('50500.000000000000')), Row(postcode='CF32 7LD', avg_price=Decimal('50500.000000000000'))]\n"
     ]
    }
   ],
   "source": [
    "# which postcode has the lowest avg price?\n",
    "results = query(\"SELECT postcode, AVG(price) AS avg_price \"\n",
    "                \"FROM house_prices \"\n",
    "                \"WHERE price > 50000\"\n",
    "                \"GROUP BY postcode \"\n",
    "                \"ORDER BY avg_price \"\n",
    "                \"LIMIT 10;\")\n",
    "print(results)"
   ]
  },
  {
   "cell_type": "markdown",
   "metadata": {},
   "source": [
    "## Refs\n",
    "* https://www.pgcon.org/2013/schedule/attachments/269_tour-of-postgresql-data-types.pdf\n",
    "* http://dba.stackexchange.com/questions/322/what-are-the-drawbacks-with-using-uuid-or-guid-as-a-primary-key\n",
    "* https://rclayton.silvrback.com/do-you-really-need-a-uuid-guid\n",
    "* http://kccoder.com/mysql/uuid-vs-int-insert-performance/"
   ]
  }
 ],
 "metadata": {
  "kernelspec": {
   "display_name": "Python 2",
   "language": "python",
   "name": "python2"
  },
  "language_info": {
   "codemirror_mode": {
    "name": "ipython",
    "version": 2
   },
   "file_extension": ".py",
   "mimetype": "text/x-python",
   "name": "python",
   "nbconvert_exporter": "python",
   "pygments_lexer": "ipython2",
   "version": "2.7.10"
  }
 },
 "nbformat": 4,
 "nbformat_minor": 0
}
