{
 "cells": [
  {
   "cell_type": "markdown",
   "metadata": {},
   "source": [
    "# Modules\n",
    "* Each module has its own private symbol table, which is used as the global symbol table for any functions or variables declared within the module.\n",
    " \n",
    "## Module Search Path\n",
    "* When a module is imported, the interpreter searches for it as follows:\n",
    "\n",
    "\n",
    "1. Look for any built-in modules with the required name.\n",
    "* a file named module.py in a list of directories given by the variable sys.path"
   ]
  },
  {
   "cell_type": "code",
   "execution_count": 5,
   "metadata": {
    "collapsed": false
   },
   "outputs": [
    {
     "data": {
      "text/plain": [
       "['',\n",
       " 'C:\\\\Windows\\\\system32\\\\python27.zip',\n",
       " 'd:\\\\work\\\\dev-notes\\\\env\\\\DLLs',\n",
       " 'd:\\\\work\\\\dev-notes\\\\env\\\\lib',\n",
       " 'd:\\\\work\\\\dev-notes\\\\env\\\\lib\\\\plat-win',\n",
       " 'd:\\\\work\\\\dev-notes\\\\env\\\\lib\\\\lib-tk',\n",
       " 'd:\\\\work\\\\dev-notes\\\\env\\\\scripts',\n",
       " 'c:\\\\python27\\\\Lib',\n",
       " 'c:\\\\python27\\\\DLLs',\n",
       " 'c:\\\\python27\\\\Lib\\\\lib-tk',\n",
       " 'd:\\\\work\\\\dev-notes\\\\env',\n",
       " 'd:\\\\work\\\\dev-notes\\\\env\\\\lib\\\\site-packages',\n",
       " 'd:\\\\work\\\\dev-notes\\\\env\\\\lib\\\\site-packages\\\\IPython\\\\extensions',\n",
       " 'C:\\\\Users\\\\smaldon.CCDC2K\\\\.ipython']"
      ]
     },
     "execution_count": 5,
     "metadata": {},
     "output_type": "execute_result"
    }
   ],
   "source": [
    "import sys\n",
    "import os\n",
    "\n",
    "sys.path # is composed of, the current directory, the PYTHONPATH the installation dependent default."
   ]
  },
  {
   "cell_type": "markdown",
   "metadata": {},
   "source": [
    "## Compiled Python Files\n",
    "* .pyc files contain byte-compiled versions of modules.\n",
    "* Whenever a module is loaded, it is byte-compiled, if this is successful, it will be written to a corresponding .pyc file.\n",
    "* if you are importing a module named \"spam\" and a file called spam.pyc exists in the directory where spam.py is found, and the timestamp is right, then it will load the byte-compiled version instead.\n",
    "\n",
    "## PYD Files\n",
    "* Binary python modules in windows are called PYD files.\n",
    "* PYD files are just DLL files with a special entry point (init<MODULE NAME>)\n",
    "\n",
    "### Refs\n",
    "* https://confluence.jetbrains.com/display/~link/Building+python+modules+on+windows"
   ]
  }
 ],
 "metadata": {
  "kernelspec": {
   "display_name": "Python 2",
   "language": "python",
   "name": "python2"
  },
  "language_info": {
   "codemirror_mode": {
    "name": "ipython",
    "version": 2
   },
   "file_extension": ".py",
   "mimetype": "text/x-python",
   "name": "python",
   "nbconvert_exporter": "python",
   "pygments_lexer": "ipython2",
   "version": "2.7.11"
  }
 },
 "nbformat": 4,
 "nbformat_minor": 0
}
